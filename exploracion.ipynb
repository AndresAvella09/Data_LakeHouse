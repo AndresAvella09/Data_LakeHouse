{
 "cells": [
  {
   "cell_type": "code",
   "execution_count": null,
   "id": "8ad79620",
   "metadata": {
    "vscode": {
     "languageId": "plaintext"
    }
   },
   "outputs": [],
   "source": [
    "import pandas as pd\n",
    "from sodapy import Socrata\n",
    "\n",
    "client = Socrata(\"www.datos.gov.co\", None, timeout = 100)\n",
    "\n",
    "query_count = '''\n",
    "    SELECT COUNT (*)\n",
    "'''\n",
    "results_count = client.get(\"jbjy-vk9h\", query = query_count)\n",
    "total_records = int(results_count[0]['COUNT'])\n",
    " \n",
    "iterations = (total_records // 100000) + 1\n",
    "\n",
    "print(f\"Total records: {total_records}, Iterations needed: {iterations}\")\n",
    "\n",
    "for i in range(35, iterations):\n",
    "    query = f\"\"\"\n",
    "    SELECT *\n",
    "    LIMIT 100000\n",
    "    OFFSET {i*100000}\n",
    "    \"\"\"\n",
    "    print(query)\n",
    "    results = client.get(\"jbjy-vk9h\", query = query)\n",
    "\n",
    "    results_df = pd.DataFrame.from_records(results)\n",
    "\n",
    "    results_df.to_parquet(f\"data_explore/secop_data_part_{i}.parquet\", index = False, engine = 'fastparquet')"
   ]
  }
 ],
 "metadata": {
  "language_info": {
   "name": "python"
  }
 },
 "nbformat": 4,
 "nbformat_minor": 5
}
